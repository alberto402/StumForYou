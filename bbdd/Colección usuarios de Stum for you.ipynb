{
 "cells": [
  {
   "cell_type": "markdown",
   "metadata": {},
   "source": [
    "1º Abrir servidor en mongo ESTO DE MOMENTO NO SE USA NADA:\n",
    "$mongod"
   ]
  },
  {
   "cell_type": "code",
   "execution_count": null,
   "metadata": {},
   "outputs": [],
   "source": [
    "url = 'R:\\Máster\\SGDI\\MOCK_DATA.json'"
   ]
  },
  {
   "cell_type": "code",
   "execution_count": null,
   "metadata": {
    "scrolled": true
   },
   "outputs": [],
   "source": [
    "import json\n",
    "from pymongo import MongoClient\n",
    "\n",
    "myclient = MongoClient(\"mongodb://localhost:27017/\")\n",
    "mydb = myclient['stum']\n",
    "mycol = mydb[\"usuarios\"]\n",
    "\n",
    "with open(url,'r') as archivo:\n",
    "    datos=archivo.read()\n",
    "data=json.loads(datos)\n",
    "mycol.insert_many(data)\n",
    "\n",
    "for x in mycol.find():\n",
    "  print(x)"
   ]
  },
  {
   "cell_type": "markdown",
   "metadata": {},
   "source": [
    "### IMPORTAR DATOS DESDE UN CSV\n",
    "### ¡¡ OJO !! BORRA LO QUE HUBIERA EN LA COLECCION"
   ]
  },
  {
   "cell_type": "code",
   "execution_count": null,
   "metadata": {},
   "outputs": [],
   "source": [
    "import pandas as pd\n",
    "from pymongo import MongoClient\n",
    "import json\n",
    "\n",
    "db_url=\"localhost\"\n",
    "db_port=27017\n",
    "db_name = 'mongodb_stum_for_you'\n",
    "collection_name = 'usuarios'\n",
    "\n",
    "csv_path = 'C:\\\\Users\\\\ppdom\\\\Documents\\\\SGDI\\\\StumForYou\\\\bbdd\\\\usuariossinbliblioteca.csv'\n",
    "mng_client = MongoClient('localhost', 27017)\n",
    "mng_db = mng_client[db_name] \n",
    "\n",
    "db_cm = mng_db[collection_name]\n",
    "client = MongoClient(db_url, db_port)\n",
    "db = client[db_name]\n",
    "coll = db[collection_name]\n",
    "data = pd.read_csv(csv_path)\n",
    "payload = json.loads(data.to_json(orient='records'))\n",
    "coll.remove()\n",
    "coll.insert_many(payload)"
   ]
  },
  {
   "cell_type": "code",
   "execution_count": null,
   "metadata": {},
   "outputs": [],
   "source": []
  }
 ],
 "metadata": {
  "kernelspec": {
   "display_name": "Python 3",
   "language": "python",
   "name": "python3"
  },
  "language_info": {
   "codemirror_mode": {
    "name": "ipython",
    "version": 3
   },
   "file_extension": ".py",
   "mimetype": "text/x-python",
   "name": "python",
   "nbconvert_exporter": "python",
   "pygments_lexer": "ipython3",
   "version": "3.7.2"
  }
 },
 "nbformat": 4,
 "nbformat_minor": 2
}
