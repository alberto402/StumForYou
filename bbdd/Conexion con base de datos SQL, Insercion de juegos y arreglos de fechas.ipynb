{
 "cells": [
  {
   "cell_type": "markdown",
   "metadata": {},
   "source": [
    "# Conexión con base de datos SQL e insercción de juegos"
   ]
  },
  {
   "cell_type": "code",
   "execution_count": 108,
   "metadata": {},
   "outputs": [],
   "source": [
    "import mysql.connector\n",
    "import pandas as pd \n",
    "from mysql.connector import errorcode\n",
    "try:\n",
    "    cnx = mysql.connector.connect(\n",
    "      host=\"localhost\",\n",
    "      user=\"root\",\n",
    "      database='stum_for_you',\n",
    "      passwd=\"\"\n",
    "    )\n",
    "except mysql.connector.Error as err:\n",
    "    if err.errno == errorcode.ER_ACCESS_DENIED_ERROR:\n",
    "        print(\"Something is wrong with your user name or password\")\n",
    "    elif err.errno == errorcode.ER_BAD_DB_ERROR:\n",
    "        print(\"Database does not exist\")\n",
    "    else:\n",
    "        print(err)"
   ]
  },
  {
   "cell_type": "markdown",
   "metadata": {},
   "source": [
    "# Corrección de fechas e ids en claves_dlc "
   ]
  },
  {
   "cell_type": "code",
   "execution_count": 109,
   "metadata": {},
   "outputs": [],
   "source": [
    "import datetime as dt\n",
    "import random\n",
    "cursor = cnx.cursor()\n",
    "sql_select_query = \"\"\"select * from claves_dlc\"\"\"\n",
    "cursor.execute(sql_select_query)\n",
    "a=cursor.fetchall()\n",
    "\n",
    "for row in a:\n",
    "    id_clave = row[0]\n",
    "    if id_clave > 1000 :\n",
    "        antigua = id_clave\n",
    "        id_clave -= 100\n",
    "        sql_update_query = \"\"\"Update claves_dlc set id_clave = %s where id_clave = %s\"\"\"\n",
    "        inputData = (id_clave,antigua)\n",
    "        cursor.execute(sql_update_query,inputData)\n",
    "    inicio = dt.datetime(2019, 1, 3)\n",
    "    final =  dt.datetime(2020, 1, 18)\n",
    "    fecha = inicio + (final - inicio) * random.random()\n",
    "    \n",
    "    sql_update_query = \"\"\"Update claves_dlc set fecha_anexion = %s where id_clave = %s\"\"\"\n",
    "    inputData = (fecha,id_clave)\n",
    "    cursor.execute(sql_update_query,inputData)\n",
    "cnx.commit()"
   ]
  },
  {
   "cell_type": "markdown",
   "metadata": {},
   "source": [
    "# Insercción de juegos"
   ]
  },
  {
   "cell_type": "code",
   "execution_count": 5,
   "metadata": {},
   "outputs": [
    {
     "name": "stderr",
     "output_type": "stream",
     "text": [
      "E:\\Users\\Alberto\\Anaconda3\\lib\\site-packages\\IPython\\core\\interactiveshell.py:3020: DtypeWarning: Columns (21,22,23,24,25,26,27,28,29,30,31,32,33,34,35,36,37,38,39,40,41,42,43,44,45,46,47,48,49,50,51,52,53,54,55) have mixed types. Specify dtype option on import or set low_memory=False.\n",
      "  interactivity=interactivity, compiler=compiler, result=result)\n"
     ]
    },
    {
     "name": "stdout",
     "output_type": "stream",
     "text": [
      "Record inserted successfully into Laptop table\n",
      "12699\n"
     ]
    }
   ],
   "source": [
    "\n",
    "cursor = cnx.cursor()\n",
    "mySql_insert_query = \"\"\"INSERT INTO juegos (clasificacion, descripcion, precio,nombre,genre_is_action, genre_is_adventure,\n",
    "genre_is_casual, genre_is_strategy, genre_is_RPG, genre_is_simulation, genre_is_early_access, genre_is_free_to_play, \n",
    "genre_is_sports, genre_is_racing, genre_is_massively_multiplayer\n",
    ") \n",
    "                                VALUES (%s, %s, %s, %s, %s, %s, %s, %s, %s, %s, %s, %s, %s, %s, %s) \"\"\"\n",
    "\n",
    "try:\n",
    "    data = pd.read_csv(\"games-features.csv\")\n",
    "    a=0\n",
    "    for juego in data.iterrows() :\n",
    "        a=a+1\n",
    "        juego=juego[1]\n",
    "        \n",
    "        if (juego.GenreIsIndie) == True:\n",
    "            clasificacion=\"INDIE\"\n",
    "        else:\n",
    "            clasificacion=\"AAA\"\n",
    "        recordTuple = (clasificacion, juego.DetailedDescrip, juego.PriceInitial,juego.ResponseName,\n",
    "                       juego.GenreIsAction, juego.GenreIsAdventure, juego.GenreIsCasual, juego.GenreIsStrategy,\n",
    "                       juego.GenreIsRPG, juego.GenreIsSimulation, juego.GenreIsEarlyAccess, juego.GenreIsFreeToPlay,\n",
    "                       juego.GenreIsSports, juego.GenreIsRacing, juego.GenreIsMassivelyMultiplayer)\n",
    "        \n",
    "        cursor.execute(mySql_insert_query, recordTuple)\n",
    "        if(a==12699):\n",
    "            break\n",
    "        \n",
    "    cnx.commit()\n",
    "    cnx.close()\n",
    "     \n",
    "    print(\"Record inserted successfully into Laptop table\")\n",
    "\n",
    "except mysql.connector.Error as error:\n",
    "    print(\"Failed to insert into MySQL table {}\".format(error))\n",
    "print(a)"
   ]
  },
  {
   "cell_type": "markdown",
   "metadata": {},
   "source": [
    "# Corrección vencimiento fechas en la tabla descuentos"
   ]
  },
  {
   "cell_type": "code",
   "execution_count": 12,
   "metadata": {},
   "outputs": [],
   "source": [
    "import datetime as dt\n",
    "cursor = cnx.cursor()\n",
    "sql_select_query = \"\"\"select * from descuentos\"\"\"\n",
    "cursor.execute(sql_select_query)\n",
    "a=cursor.fetchall()\n",
    "\n",
    "for row in a:\n",
    "\n",
    "    id=row[0]\n",
    "    if(id>800 and id <901):\n",
    "        crea = dt.datetime(2018,12,1)\n",
    "        fina = dt.datetime(2018,12,1)+dt.timedelta(weeks=+4)\n",
    "        sql_update_query = \"\"\"Update descuentos set fecha_creacion = %s where id_descuento = %s\"\"\"\n",
    "        inputData = (crea,id)\n",
    "        cursor.execute(sql_update_query,inputData)\n",
    "        sql_update_query = \"\"\"Update descuentos set fecha_vencimiento = %s where id_descuento = %s\"\"\"\n",
    "        inputData = (fina,id)\n",
    "        cursor.execute(sql_update_query,inputData)\n",
    "    else:\n",
    "        use_date = row[2]+dt.timedelta(weeks=+4)\n",
    "        sql_update_query = \"\"\"Update descuentos set fecha_vencimiento = %s where id_descuento = %s\"\"\"\n",
    "        inputData = (use_date,id)\n",
    "        cursor.execute(sql_update_query,inputData)\n",
    "cnx.commit()\n",
    "cnx.close()"
   ]
  },
  {
   "cell_type": "code",
   "execution_count": null,
   "metadata": {},
   "outputs": [],
   "source": []
  }
 ],
 "metadata": {
  "kernelspec": {
   "display_name": "Python 3",
   "language": "python",
   "name": "python3"
  },
  "language_info": {
   "codemirror_mode": {
    "name": "ipython",
    "version": 3
   },
   "file_extension": ".py",
   "mimetype": "text/x-python",
   "name": "python",
   "nbconvert_exporter": "python",
   "pygments_lexer": "ipython3",
   "version": "3.6.5"
  }
 },
 "nbformat": 4,
 "nbformat_minor": 2
}
