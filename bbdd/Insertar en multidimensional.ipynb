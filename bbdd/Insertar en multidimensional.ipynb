{
 "cells": [
  {
   "cell_type": "markdown",
   "metadata": {},
   "source": [
    "# Insertar en multidimensional datos"
   ]
  },
  {
   "cell_type": "markdown",
   "metadata": {},
   "source": [
    "## Seleccionar colección"
   ]
  },
  {
   "cell_type": "code",
   "execution_count": 2,
   "metadata": {},
   "outputs": [
    {
     "name": "stdout",
     "output_type": "stream",
     "text": [
      "['usuarios']\n"
     ]
    }
   ],
   "source": [
    "import pymongo\n",
    "\n",
    "myclient = pymongo.MongoClient(\"mongodb://localhost:27017/\")\n",
    "\n",
    "mydb = myclient[\"stum_for_you\"]\n",
    "mycol = mydb[\"multidimensional\"]\n",
    "\n",
    "\n",
    "print(mydb.list_collection_names())"
   ]
  },
  {
   "cell_type": "markdown",
   "metadata": {},
   "source": [
    "## Insertar datos"
   ]
  },
  {
   "cell_type": "code",
   "execution_count": 22,
   "metadata": {},
   "outputs": [
    {
     "name": "stdout",
     "output_type": "stream",
     "text": [
      "['multidimensional', 'usuarios']\n",
      "5e18d1d236678c21d442d479\n"
     ]
    }
   ],
   "source": [
    "precio_final = 38\n",
    "tipo_movimiento= \"compra\"\n",
    "cantidad= 19 \n",
    "anyo= 2019\n",
    "mes= 11\n",
    "dia= 26 \n",
    "puntero_juego= 10482\n",
    "genero= ['action', 'casual', 'RPG']\n",
    "precio= 4\n",
    "clasificacion= \"INDIE\" \n",
    "puntero_proveedor= 33\n",
    "pais= \"Macedonia\"\n",
    "valoracion= 5\n",
    "\n",
    "if(tipo_movimiento == \"venta\"):\n",
    "    datos = {\n",
    "        \"movimiento\":{\"precio_final\":precio_final, \"tipo_movimiento\": tipo_movimiento, \"cantidad\": cantidad},\n",
    "        \"descuento\":{\"porcentaje\":porcentaje,\"fecha_inicio\":fecha_inicio,\"fecha_fin\":fecha_fin},\n",
    "        \"fecha\":{\"anyo\":anyo, \"mes\":mes,\"dia\":dia},\n",
    "        \"juego\":{\"puntero_juego\":puntero_juego,\"genero\":genero,\"precio\":precio,\"clasificacion\":clasificacion},\n",
    "        \"dlc\":{\"precio\":precio,\"tipo\":tipo},\n",
    "        \"ubicacion\":{\"pais\":pais,\"ciudad\":ciudad},\n",
    "        \"usuario\":{\"sexo\":sexo,\"fechaNacimiento\":fechaNacimiento,\"pais\":pais,\"ciudad\":ciudad},\n",
    "        \"descuento_personalizado\":{\"porcentaje\":porcentaje_personalizado,\"fecha_inicio\":fecha_inicio_personalizado,\"fecha_fin\":fecha_fin_personalizado, \"tipo\":tipo_personalizado}\n",
    "             }\n",
    "else:\n",
    "     datos = {\n",
    "        \"movimiento\":{\"precio_final\":precio_final, \"tipo_movimiento\": tipo_movimiento, \"cantidad\": cantidad},\n",
    "        \"fecha\":{\"anyo\":anyo, \"mes\":mes,\"dia\":dia},\n",
    "        \"juego\":{\"puntero_juego\":puntero_juego,\"genero\":genero,\"precio\":precio,\"clasificacion\":clasificacion},\n",
    "        \"proveedor\":{\"puntero_proveedor\":puntero_proveedor,\"pais\":pais,\"valoracion\":valoracion}\n",
    "             }\n",
    "x = mycol.insert_one(datos)    \n",
    "\n",
    "precio_final = 38\n",
    "tipo_movimiento= \"compra\"\n",
    "cantidad= 19 \n",
    "anyo= 2019\n",
    "mes= 11\n",
    "dia= 26 \n",
    "puntero_juego= 10482\n",
    "genero= ['action', 'casual', 'RPG']\n",
    "precio= 4\n",
    "clasificacion= \"INDIE\" \n",
    "puntero_proveedor= 33\n",
    "pais= \"Macedonia\"\n",
    "valoracion= 5\n",
    "\n",
    "if(tipo_movimiento == \"venta\"):\n",
    "    datos = {\n",
    "        \"movimiento\":{\"precio_final\":precio_final, \"tipo_movimiento\": tipo_movimiento, \"cantidad\": cantidad},\n",
    "        \"descuento\":{\"porcentaje\":porcentaje,\"fecha_inicio\":fecha_inicio,\"fecha_fin\":fecha_fin},\n",
    "        \"fecha\":{\"anyo\":anyo, \"mes\":mes,\"dia\":dia},\n",
    "        \"juego\":{\"puntero_juego\":puntero_juego,\"genero\":genero,\"precio\":precio,\"clasificacion\":clasificacion},\n",
    "        \"dlc\":{\"precio\":precio,\"tipo\":tipo},\n",
    "        \"ubicacion\":{\"pais\":pais,\"ciudad\":ciudad},\n",
    "        \"usuario\":{\"sexo\":sexo,\"fechaNacimiento\":fechaNacimiento,\"pais\":pais,\"ciudad\":ciudad},\n",
    "        \"descuento\":{\"porcentaje\":porcentaje,\"fecha_inicio\":fecha_inicio,\"fecha_fin\":fecha_fin, \"tipo\":tipo}\n",
    "             }\n",
    "else:\n",
    "     datos = {\n",
    "        \"movimiento\":{\"precio_final\":precio_final, \"tipo_movimiento\": tipo_movimiento, \"cantidad\": cantidad},\n",
    "        \"fecha\":{\"anyo\":anyo, \"mes\":mes,\"dia\":dia},\n",
    "        \"juego\":{\"puntero_juego\":puntero_juego,\"genero\":genero,\"precio\":precio,\"clasificacion\":clasificacion},\n",
    "        \"proveedor\":{\"puntero_proveedor\":puntero_proveedor,\"pais\":pais,\"valoracion\":valoracion}\n",
    "             }\n",
    "mycol.insert_one(datos)    \n"
   ]
  },
  {
   "cell_type": "code",
   "execution_count": 24,
   "metadata": {},
   "outputs": [
    {
     "name": "stdout",
     "output_type": "stream",
     "text": [
      "{'_id': ObjectId('5e18d1d236678c21d442d478'), 'movimiento': {'precio_final': 38, 'tipo_movimiento': 'compra', 'cantidad': 19}, 'fecha': {'anyo': 2019, 'mes': 11, 'dia': 26}, 'juego': {'puntero_juego': 10482, 'genero': ['action', 'casual', 'RPG'], 'precio': 4, 'clasificacion': 'INDIE'}, 'proveedor': {'puntero_proveedor': 33, 'pais': 'Macedonia', 'valoracion': 5}}\n"
     ]
    }
   ],
   "source": [
    "x=mycol.find_one()\n",
    "print(x)"
   ]
  },
  {
   "cell_type": "code",
   "execution_count": null,
   "metadata": {},
   "outputs": [],
   "source": []
  }
 ],
 "metadata": {
  "kernelspec": {
   "display_name": "Python 3",
   "language": "python",
   "name": "python3"
  },
  "language_info": {
   "codemirror_mode": {
    "name": "ipython",
    "version": 3
   },
   "file_extension": ".py",
   "mimetype": "text/x-python",
   "name": "python",
   "nbconvert_exporter": "python",
   "pygments_lexer": "ipython3",
   "version": "3.7.2"
  }
 },
 "nbformat": 4,
 "nbformat_minor": 2
}
