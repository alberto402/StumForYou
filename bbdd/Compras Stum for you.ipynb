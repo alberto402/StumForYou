{
 "cells": [
  {
   "cell_type": "markdown",
   "metadata": {},
   "source": [
    "# Compra de juegos y dlcs a partir de datos dados en una tabla"
   ]
  },
  {
   "cell_type": "markdown",
   "metadata": {},
   "source": [
    "## Compra juegos"
   ]
  },
  {
   "cell_type": "code",
   "execution_count": null,
   "metadata": {},
   "outputs": [],
   "source": [
    "import random\n",
    "import mysql.connector\n",
    "\n",
    "mydb = mysql.connector.connect(\n",
    "    host=\"localhost\",\n",
    "    user=\"root\",\n",
    "    database='stum_for_you',\n",
    "    passwd=\"\"\n",
    ")\n",
    "\n",
    "mycursor = mydb.cursor()\n",
    "\n",
    "mycursor.execute(\"SELECT COUNT(*) FROM claves_juegos\")\n",
    "rango = mycursor.fetchone()[0] + 1\n",
    "for i in range(1,rango):\n",
    "    mycursor.execute(\"SELECT id_juego, fecha_anexion FROM claves_juegos WHERE id_clave = %s\", (i,))\n",
    "    datos = mycursor.fetchone()\n",
    "    id_jue = datos[0]\n",
    "    fecha = datos[1]\n",
    "    \n",
    "    mycursor.execute(\"SELECT precio FROM juegos WHERE id_juego = %s\", (id_jue,))\n",
    "    preciojuego = mycursor.fetchone()\n",
    "    preciojuego = int(preciojuego[0] * 0.8)\n",
    "    mycursor.execute(\"SELECT COUNT(*) FROM proveedor\")\n",
    "    longprov = mycursor.fetchone()[0] + 1\n",
    "    prov = random.randrange(1,longprov)\n",
    "    sql = \"INSERT INTO transacciones_compra (precio_total, fecha_compra) VALUES (%s, %s)\"\n",
    "    val = (preciojuego, fecha)\n",
    "    mycursor.execute(sql,val)\n",
    "    mydb.commit()\n",
    "    \n",
    "    mycursor.execute(\"SELECT MAX(id_transaccion) FROM transacciones_compra\")\n",
    "    id_transac = mycursor.fetchone()[0]\n",
    "    print((prov, id_transac, i, preciojuego))\n",
    "    sql = \"INSERT INTO compra_juegos (id_proveedor, id_transaccion, id_claves_juego, precio) VALUES (%s, %s, %s, %s)\"\n",
    "    val = (prov, id_transac, i, preciojuego)\n",
    "    mycursor.execute(sql,val)\n",
    "    mydb.commit()\n",
    "        "
   ]
  },
  {
   "cell_type": "markdown",
   "metadata": {},
   "source": [
    "## Compra dlcs"
   ]
  },
  {
   "cell_type": "code",
   "execution_count": null,
   "metadata": {},
   "outputs": [],
   "source": [
    "import random\n",
    "import mysql.connector\n",
    "\n",
    "mydb = mysql.connector.connect(\n",
    "    host=\"localhost\",\n",
    "    user=\"root\",\n",
    "    database='stum_for_you',\n",
    "    passwd=\"\"\n",
    ")\n",
    "\n",
    "mycursor = mydb.cursor()\n",
    "\n",
    "mycursor.execute(\"SELECT COUNT(*) FROM claves_dlc\")\n",
    "rango = mycursor.fetchone()[0] + 1\n",
    "for i in range(1,rango):\n",
    "    mycursor.execute(\"SELECT id_dlc, fecha_anexion FROM claves_dlc WHERE id_clave = %s\", (i,))\n",
    "    datos = mycursor.fetchone()\n",
    "    id_dlc = datos[0]\n",
    "    fecha = datos[1]\n",
    "    \n",
    "    mycursor.execute(\"SELECT precio FROM dlcs WHERE id_dlc = %s\", (id_dlc,))\n",
    "    datos = mycursor.fetchone()\n",
    "    preciodlc = int(datos[0] * 0.8)\n",
    "    mycursor.execute(\"SELECT COUNT(*) FROM proveedor\")\n",
    "    longprov = mycursor.fetchone()[0] + 1\n",
    "    prov = random.randrange(1,longprov)\n",
    "    sql = \"INSERT INTO transacciones_compra (precio_total, fecha_compra) VALUES (%s, %s)\"\n",
    "    val = (preciodlc, fecha)\n",
    "    mycursor.execute(sql,val)\n",
    "    mydb.commit()\n",
    "    \n",
    "    mycursor.execute(\"SELECT MAX(id_transaccion) FROM transacciones_compra\")\n",
    "    id_transac = mycursor.fetchone()[0]\n",
    "    print((prov, id_transac, i, preciojuego))\n",
    "    sql = \"INSERT INTO compra_dlcs (id_proveedor, id_transaccion, id_claves_dlc, precio) VALUES (%s, %s, %s, %s)\"\n",
    "    val = (prov, id_transac, i, preciodlc)\n",
    "    mycursor.execute(sql,val)\n",
    "    mydb.commit()"
   ]
  },
  {
   "cell_type": "code",
   "execution_count": null,
   "metadata": {},
   "outputs": [],
   "source": [
    "ALTER TABLE transacciones_compra AUTO_INCREMENT = 1\n",
    "DELETE FROM transacciones_compra\n",
    "DELETE FROM compra_juegos\n",
    "\n",
    "import datetime as dt\n",
    "from faker import Faker\n",
    "fake = Faker()"
   ]
  }
 ],
 "metadata": {
  "kernelspec": {
   "display_name": "Python 3",
   "language": "python",
   "name": "python3"
  },
  "language_info": {
   "codemirror_mode": {
    "name": "ipython",
    "version": 3
   },
   "file_extension": ".py",
   "mimetype": "text/x-python",
   "name": "python",
   "nbconvert_exporter": "python",
   "pygments_lexer": "ipython3",
   "version": "3.6.5"
  }
 },
 "nbformat": 4,
 "nbformat_minor": 2
}
