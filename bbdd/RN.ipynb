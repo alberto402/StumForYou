{
 "cells": [
  {
   "cell_type": "code",
   "execution_count": 1,
   "metadata": {},
   "outputs": [],
   "source": [
    "import sqlite3\n",
    "from pprint import pprint\n",
    "import pandas as pd\n",
    "import math\n",
    "import datetime\n",
    "import matplotlib.pyplot as plt"
   ]
  },
  {
   "cell_type": "code",
   "execution_count": 2,
   "metadata": {},
   "outputs": [],
   "source": [
    "tInicioGlobal = datetime.datetime.now()"
   ]
  },
  {
   "cell_type": "markdown",
   "metadata": {},
   "source": [
    "## INICIO extraer datos (BBDD)"
   ]
  },
  {
   "cell_type": "code",
   "execution_count": 3,
   "metadata": {},
   "outputs": [
    {
     "data": {
      "text/plain": [
       "{'_id': ObjectId('5e2040ad37d0e4054c2cf0fb'),\n",
       " 'movimiento': {'precio_final': 8, 'tipo_movimiento': 'compra', 'cantidad': 1},\n",
       " 'fecha': {'anyo': '2019', 'mes': '01', 'dia': '23'},\n",
       " 'juego': {'puntero_juego': 9477,\n",
       "  'genero': ['racing'],\n",
       "  'precio_juego': 10,\n",
       "  'clasificacion': 'INDIE'},\n",
       " 'proveedor': {'puntero_proveedor': 29,\n",
       "  'pais': 'New Zealand',\n",
       "  'valoracion': 1}}"
      ]
     },
     "execution_count": 3,
     "metadata": {},
     "output_type": "execute_result"
    }
   ],
   "source": [
    "### Inicio conexion BBDD\n",
    "import pymongo\n",
    "\n",
    "myclient = pymongo.MongoClient(\"mongodb://localhost:27017/\")\n",
    "\n",
    "mydb = myclient[\"stum_for_you\"]\n",
    "mycol = mydb[\"multidimensional\"]\n",
    "mycol.find_one()"
   ]
  },
  {
   "cell_type": "code",
   "execution_count": 4,
   "metadata": {},
   "outputs": [],
   "source": [
    "# cursor.execute(\"SELECT DISTINCT s.problem_id FROM Submission as s GROUP BY s.user_id, s.problem_id HAVING (count(s.status='AC')+count(s.status='PE'))>0\")\n",
    "# tablaProblemBBDD = cursor.fetchall()\n",
    "# cursor.execute(\"SELECT DISTINCT s.user_id FROM Submission as s GROUP BY s.user_id, s.problem_id HAVING (count(s.status='AC')+count(s.status='PE'))>0\")\n",
    "# tablaUsersBBDD = cursor.fetchall()\n",
    "dataMultidimensional = mycol.find()\n",
    "tablaUsersBBDD = []\n",
    "tablaProblemBBDD = []\n",
    "dataParse = []\n",
    "for x in dataMultidimensional:\n",
    "    if 'proveedor' in x and 'juego' in x and 'movimiento' in x:\n",
    "        proveedor = x['proveedor']\n",
    "        juego = x['juego']\n",
    "        movimiento = x['movimiento']\n",
    "        if 'puntero_proveedor' in proveedor and 'puntero_juego' in juego and 'tipo_movimiento' in movimiento:\n",
    "            if movimiento['tipo_movimiento'] == 'compra':\n",
    "                dataParse.append({\n",
    "                    'puntero_juego': juego['puntero_juego'],\n",
    "                    'puntero_proveedor': proveedor['puntero_proveedor'],\n",
    "                    'cantidad': movimiento['cantidad'],\n",
    "                    'fecha': x['fecha']['anyo'] + '-' + x['fecha']['mes'] + '-' + x['fecha']['dia']\n",
    "                })\n",
    "                tablaUsersBBDD.append(proveedor['puntero_proveedor'])\n",
    "                tablaProblemBBDD.append(juego['puntero_juego'])\n",
    "tablaUsersBBDD = list(set(tablaUsersBBDD))\n",
    "tablaProblemBBDD = list(set(tablaProblemBBDD))"
   ]
  },
  {
   "cell_type": "markdown",
   "metadata": {},
   "source": [
    "## FIN extraer datos"
   ]
  },
  {
   "cell_type": "markdown",
   "metadata": {},
   "source": [
    "## INICIO parsear datos"
   ]
  },
  {
   "cell_type": "code",
   "execution_count": 6,
   "metadata": {},
   "outputs": [],
   "source": [
    "dfSubmissionParaEntrenar = dfSubmission.copy()"
   ]
  },
  {
   "cell_type": "code",
   "execution_count": 7,
   "metadata": {},
   "outputs": [],
   "source": [
    "dfUsersProblem = pd.DataFrame(0, index=tablaUsersBBDD, columns=tablaProblemBBDD)\n",
    "\n",
    "for i in dfSubmissionParaEntrenar.itertuples():\n",
    "    dfUsersProblem.at[i.puntero_proveedor, i.puntero_juego] += int(i.cantidad)"
   ]
  },
  {
   "cell_type": "code",
   "execution_count": 8,
   "metadata": {},
   "outputs": [],
   "source": [
    "dfOriginalUsersProblem = dfUsersProblem.copy()\n",
    "aux = dfUsersProblem.sum()\n",
    "aux = aux[aux<1]\n",
    "dfUsersProblem = dfUsersProblem.drop(aux.index ,axis=1)\n",
    "aux = dfUsersProblem.transpose().sum()\n",
    "aux = aux[aux<1]\n",
    "dfUsersProblem = dfUsersProblem.drop(aux.index ,axis=0)"
   ]
  },
  {
   "cell_type": "code",
   "execution_count": 9,
   "metadata": {},
   "outputs": [],
   "source": [
    "dfOriginalUsersProblemInv = dfOriginalUsersProblem.copy()\n",
    "dfOriginalUsersProblemInv[dfOriginalUsersProblem==0] = 1\n",
    "dfOriginalUsersProblemInv[dfOriginalUsersProblem==1] = 0\n",
    "dfUsersProblemInv = dfUsersProblem.copy()\n",
    "dfUsersProblemInv[dfUsersProblem==0] = 1\n",
    "dfUsersProblemInv[dfUsersProblem==1] = 0"
   ]
  },
  {
   "cell_type": "markdown",
   "metadata": {},
   "source": [
    "## FIN parsear datos"
   ]
  },
  {
   "cell_type": "markdown",
   "metadata": {},
   "source": [
    "## INICIO sacar lista de recomendación"
   ]
  },
  {
   "cell_type": "markdown",
   "metadata": {},
   "source": [
    "#### Calculo probabilidad simple"
   ]
  },
  {
   "cell_type": "code",
   "execution_count": 10,
   "metadata": {},
   "outputs": [],
   "source": [
    "def calculoProbabilidadSimple():\n",
    "    return dfUsersProblem.sum()/len(dfUsersProblemInv.index)\n",
    "sProbSimple = calculoProbabilidadSimple()"
   ]
  },
  {
   "cell_type": "markdown",
   "metadata": {},
   "source": [
    "#### probabilidad de resolver el problema COLUMNA habiendo resuelto el problema FILA"
   ]
  },
  {
   "cell_type": "code",
   "execution_count": 11,
   "metadata": {},
   "outputs": [],
   "source": [
    "def calculoProbabilidadCondicionadaRR():\n",
    "    dfProblemProbabilidadSiOptimizado = pd.DataFrame(index=dfUsersProblem.columns, columns=dfUsersProblem.columns)\n",
    "    for column in dfUsersProblem.columns:\n",
    "        denNo = dfUsersProblem[column].sum() + 2\n",
    "        dfProblemProbabilidadSiOptimizado[column] = ((dfUsersProblem.mul(dfUsersProblem[column], axis=0)).sum() + 1) / denNo\n",
    "    return dfProblemProbabilidadSiOptimizado\n",
    "dfProblemProbabilidadSiOptimizado = calculoProbabilidadCondicionadaRR()\n",
    "# dfProblemProbabilidadSiOptimizado.to_csv(\"probPriori.csv\")"
   ]
  },
  {
   "cell_type": "markdown",
   "metadata": {},
   "source": [
    "tInicio = datetime.datetime.now()\n",
    "dfProblemProbabilidadSiOptimizado = pd.read_csv(\"probPriori.csv\", index_col=0, parse_dates=True)\n",
    "tFinal = datetime.datetime.now()\n",
    "t = tFinal - tInicio\n",
    "print(t)"
   ]
  },
  {
   "cell_type": "markdown",
   "metadata": {},
   "source": [
    "#### Calculo para TODOS los usuarios"
   ]
  },
  {
   "cell_type": "markdown",
   "metadata": {},
   "source": [
    "def calculoTablaProbTodosLosUsuarios():\n",
    "    dfFinal = pd.DataFrame()\n",
    "    for c in dfProblemProbabilidadSiOptimizado.columns:\n",
    "        aux = dfOriginalUsersProblem.mul(dfProblemProbabilidadSiOptimizado[c])\n",
    "        aux = aux[aux!=0].prod(axis=1)\n",
    "        aux2 = dfOriginalUsersProblemInv.mul(1-dfProblemProbabilidadSiOptimizado[c])\n",
    "        aux2 = aux2[aux2!=0].prod(axis=1)\n",
    "        dfFinal[c]=aux*aux2*sProbSimple[c]\n",
    "    dfFinal.to_csv(\"allUsersProb.csv\")\n",
    "    return dfFinal\n",
    "dfFinal = calculoTablaProbTodosLosUsuarios()"
   ]
  },
  {
   "cell_type": "code",
   "execution_count": null,
   "metadata": {},
   "outputs": [],
   "source": [
    "#### Cargar de archivo los datos generados por la funcion anterior (para la demo porque la funcion tarda mucho)\n",
    "dfFinal = pd.read_csv(\"allUsersProb.csv\", index_col=0, parse_dates=True)\n",
    "dfFinal.columns = dfFinal.columns.astype(int)"
   ]
  },
  {
   "cell_type": "code",
   "execution_count": 19,
   "metadata": {},
   "outputs": [
    {
     "data": {
      "text/plain": [
       "1     403       6.221661e-08\n",
       "6955      2.796995e-48\n",
       "...\n",
       "2     11629     5.095293e-06\n",
       "3027      4.231885e-28\n",
       "...\n",
       "3     11344     1.088363e-07\n",
       "6870      1.189373e-13\n",
       "...\n",
       "4     3575     2.651497e-196\n",
       "7023     3.781733e-211\n",
       "...\n",
       "5     7023     8.024027e-142\n",
       "200      1.192465e-146\n",
       "...\n",
       "6     7164      7.756619e-09\n",
       "12206     2.525474e-09\n",
       "...\n",
       "7     3575     5.126638e-173\n",
       "3860     3.233967e-176\n",
       "...\n",
       "8     3575     6.815033e-186\n",
       "3860     4.630716e-187\n",
       "...\n",
       "9     7023     3.721861e-170\n",
       "200      3.076322e-174\n",
       "...\n",
       "10    3193      1.094759e-01\n",
       "1498      1.364878e-03\n",
       "...\n",
       "11    3575     1.672064e-182\n",
       "3860     7.037581e-186\n",
       "...\n",
       "12    3575     5.720840e-177\n",
       "7023     2.471593e-179\n",
       "...\n",
       "13    3575     5.634984e-188\n",
       "3860     4.383778e-193\n",
       "...\n",
       "14    9355      1.817314e+16\n",
       "51        7.613503e+15\n",
       "...\n",
       "15    11490     1.616259e+15\n",
       "6181      6.427726e+06\n",
       "...\n",
       "16    3575     2.738468e-178\n",
       "7023     1.217810e-178\n",
       "...\n",
       "17    3296      3.091913e-01\n",
       "7316      5.470825e-05\n",
       "...\n",
       "18    3575     1.158442e-170\n",
       "7023     7.929244e-172\n",
       "...\n",
       "19    3575     2.091059e-175\n",
       "3860     6.572548e-179\n",
       "...\n",
       "20    115       5.718849e+04\n",
       "7959      3.034129e-02\n",
       "...\n",
       "21    3575     1.358489e-184\n",
       "7023     1.981704e-191\n",
       "...\n",
       "22    3575     5.087535e-185\n",
       "3860     1.533783e-188\n",
       "...\n",
       "23    200      5.841579e-168\n",
       "7023     3.721861e-170\n",
       "...\n",
       "24    8595      3.022760e-15\n",
       "3860      1.566924e-43\n",
       "...\n",
       "25    9772     3.641062e-186\n",
       "3575     4.846379e-190\n",
       "...\n",
       "26    200       7.785644e+15\n",
       "7023     1.186871e-164\n",
       "...\n",
       "27    1334      5.252268e+10\n",
       "3575      2.700923e-25\n",
       "...\n",
       "28    3031      1.939499e-01\n",
       "1624     2.386536e-169\n",
       "...\n",
       "29    5299      1.397595e+17\n",
       "4671      4.268426e+16\n",
       "...\n",
       "30    3575     5.874760e-194\n",
       "3860     3.116266e-197\n",
       "...\n",
       "31    12126     2.035439e+06\n",
       "3575     3.465944e-177\n",
       "...\n",
       "32    3575     2.985397e-175\n",
       "3860     1.987116e-178\n",
       "...\n",
       "33    12439    6.069515e-194\n",
       "3860     4.394045e-195\n",
       "...\n",
       "34    3575     2.826408e-186\n",
       "7023     3.579201e-188\n",
       "...\n",
       "35    3575     4.355149e-192\n",
       "3860     1.033893e-195\n",
       "...\n",
       "36    4367      3.371268e+05\n",
       "2628      6.029479e-01\n",
       "...\n",
       "37    3860     4.566091e-184\n",
       "3575     5.539526e-185\n",
       "...\n",
       "38    7023      1.719656e+05\n",
       "200      2.206880e-159\n",
       "...\n",
       "39    3575     3.936310e-171\n",
       "3860     1.468682e-174\n",
       "...\n",
       "40    3575     1.026292e-189\n",
       "3860     6.354338e-196\n",
       "...\n",
       "Name: 0, dtype: object"
      ]
     },
     "execution_count": 19,
     "metadata": {},
     "output_type": "execute_result"
    }
   ],
   "source": [
    "#Ordenar recomendaciones para cada usuario\n",
    "def generarListaDeRecomendacionOrdenada():\n",
    "    listaRecomendacion = pd.DataFrame(columns=[0],index=dfFinal.index)\n",
    "    for u in dfFinal.index:\n",
    "        listaRecomendacion.at[u,0] = dfFinal.loc[u][dfOriginalUsersProblem.loc[u]!=1].copy().sort_values(ascending=False)\n",
    "    return listaRecomendacion\n",
    "listaRecomendacion = generarListaDeRecomendacionOrdenada()"
   ]
  },
  {
   "cell_type": "code",
   "execution_count": 20,
   "metadata": {},
   "outputs": [
    {
     "data": {
      "text/plain": [
       "{1: 403,\n",
       " 2: 11629,\n",
       " 3: 11344,\n",
       " 4: 3575,\n",
       " 5: 7023,\n",
       " 6: 7164,\n",
       " 7: 3575,\n",
       " 8: 3575,\n",
       " 9: 7023,\n",
       " 10: 3193,\n",
       " 11: 3575,\n",
       " 12: 3575,\n",
       " 13: 3575,\n",
       " 14: 9355,\n",
       " 15: 11490,\n",
       " 16: 3575,\n",
       " 17: 3296,\n",
       " 18: 3575,\n",
       " 19: 3575,\n",
       " 20: 115,\n",
       " 21: 3575,\n",
       " 22: 3575,\n",
       " 23: 200,\n",
       " 24: 8595,\n",
       " 25: 9772,\n",
       " 26: 200,\n",
       " 27: 1334,\n",
       " 28: 3031,\n",
       " 29: 5299,\n",
       " 30: 3575,\n",
       " 31: 12126,\n",
       " 32: 3575,\n",
       " 33: 12439,\n",
       " 34: 3575,\n",
       " 35: 3575,\n",
       " 36: 4367,\n",
       " 37: 3860,\n",
       " 38: 7023,\n",
       " 39: 3575,\n",
       " 40: 3575}"
      ]
     },
     "execution_count": 20,
     "metadata": {},
     "output_type": "execute_result"
    }
   ],
   "source": [
    "siguienteJuegoDeCadaProveedor = {}\n",
    "for x in listaRecomendacion.index:\n",
    "    siguienteJuegoDeCadaProveedor[x] = listaRecomendacion.at[x,0].index[0]\n",
    "\n",
    "siguienteJuegoDeCadaProveedor"
   ]
  },
  {
   "cell_type": "code",
   "execution_count": 14,
   "metadata": {},
   "outputs": [],
   "source": [
    "def recomendacionUnUsuario(user):\n",
    "    return listaRecomendacion.at[user,0]"
   ]
  },
  {
   "cell_type": "code",
   "execution_count": 15,
   "metadata": {},
   "outputs": [
    {
     "name": "stdout",
     "output_type": "stream",
     "text": [
      "2:23:25.631157\n"
     ]
    }
   ],
   "source": [
    "tFinalGlobal = datetime.datetime.now()\n",
    "t = tFinalGlobal - tInicioGlobal\n",
    "print(t)"
   ]
  },
  {
   "cell_type": "markdown",
   "metadata": {},
   "source": [
    "## FIN sacar lista de recomendación"
   ]
  }
 ],
 "metadata": {
  "kernelspec": {
   "display_name": "Python 3",
   "language": "python",
   "name": "python3"
  },
  "language_info": {
   "codemirror_mode": {
    "name": "ipython",
    "version": 3
   },
   "file_extension": ".py",
   "mimetype": "text/x-python",
   "name": "python",
   "nbconvert_exporter": "python",
   "pygments_lexer": "ipython3",
   "version": "3.7.2"
  }
 },
 "nbformat": 4,
 "nbformat_minor": 2
}
