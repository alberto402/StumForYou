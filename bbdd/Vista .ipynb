{
 "cells": [
  {
   "cell_type": "code",
   "execution_count": null,
   "metadata": {},
   "outputs": [],
   "source": [
    "import mysql.connector\n",
    "from pymongo import MongoClient\n",
    "\n",
    "myclient = MongoClient(\"mongodb://localhost:27017/\")\n",
    "mydb = myclient['stum_for_you']\n",
    "mycol = mydb[\"usuarios\"]\n",
    "\n",
    "mydb = mysql.connector.connect(\n",
    "    host=\"localhost\",\n",
    "    user=\"root\",\n",
    "    database='stum_for_you',\n",
    "    passwd=\"\"\n",
    ")\n",
    "\n",
    "mycursor = mydb.cursor(buffered=True)\n",
    "mycursor.execute(\"SELECT DISTINCT  d.id_juego, d.nombre, d.descripcion, d.clasificacion, d.precio FROM juegos d JOIN claves_juegos c ON c.id_juego = d.id_juego WHERE c.vendido = 1\")\n",
    "vista = mycursor.fetchall()"
   ]
  },
  {
   "cell_type": "code",
   "execution_count": null,
   "metadata": {},
   "outputs": [],
   "source": [
    "def valoraciones(num):\n",
    "    valoracion = mycol.find({\"biblioteca.id_juego\":int(num)},{\"biblioteca.$.valoraciones\":1})\n",
    "    max = -1\n",
    "    min = 9999\n",
    "    commax = \"\"\n",
    "    commin = \"\"\n",
    "    todas = []\n",
    "    maxval = \"\"\n",
    "    minval = \"\"\n",
    "    if(valoracion.count() > 0):\n",
    "        for x in valoracion:\n",
    "            todas.append(\"Valoración: \"+ str(x['biblioteca'][0]['valoraciones']) + \" - '\"+ x['biblioteca'][0]['comentarios'] + \"'\")\n",
    "            if(x['biblioteca'][0]['valoraciones'] > max):\n",
    "                max = x['biblioteca'][0]['valoraciones']\n",
    "                commax = x['biblioteca'][0]['comentarios']\n",
    "            if(x['biblioteca'][0]['valoraciones'] < min):\n",
    "                min = x['biblioteca'][0]['valoraciones']\n",
    "                commin = x['biblioteca'][0]['comentarios']\n",
    "        maxval = \"Máxima valoración: \" + str(max) + \" - '\" + commax + \"'\"\n",
    "        minval = \"Mínima valoración: \" + str(min) + \" - '\" + commin + \"'\"\n",
    "    return (todas,maxval, minval, valoracion.count())"
   ]
  },
  {
   "cell_type": "code",
   "execution_count": null,
   "metadata": {},
   "outputs": [],
   "source": [
    "from bottle import Bottle, route, run, template, request ,post ,get\n",
    "import os\n",
    "\n",
    "@route('/')\n",
    "def Juegos():\n",
    "    return template(os.getcwd()+'\\\\VistaJuegos.tpl', vista=vista)\n",
    "\n",
    "@post('/Valoraciones')\n",
    "def Valoraciones():\n",
    "    id_juego = request.forms.get('id_juego')\n",
    "    result = valoraciones(id_juego)\n",
    "    return template(os.getcwd()+'\\\\VistaValoraciones.tpl', todas = result[0], maxval = result[1], minval = result[2], contador = result[3])\n",
    "run(host='localhost', port=8080)"
   ]
  },
  {
   "cell_type": "code",
   "execution_count": null,
   "metadata": {},
   "outputs": [],
   "source": []
  }
 ],
 "metadata": {
  "kernelspec": {
   "display_name": "Python 3",
   "language": "python",
   "name": "python3"
  },
  "language_info": {
   "codemirror_mode": {
    "name": "ipython",
    "version": 3
   },
   "file_extension": ".py",
   "mimetype": "text/x-python",
   "name": "python",
   "nbconvert_exporter": "python",
   "pygments_lexer": "ipython3",
   "version": "3.6.5"
  }
 },
 "nbformat": 4,
 "nbformat_minor": 2
}
