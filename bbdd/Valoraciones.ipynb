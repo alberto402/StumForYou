{
 "cells": [
  {
   "cell_type": "code",
   "execution_count": 35,
   "metadata": {},
   "outputs": [],
   "source": [
    "from pymongo import MongoClient\n",
    "myclient = MongoClient(\"mongodb://localhost:27017/\")\n",
    "mydb = myclient['stum_for_you']\n",
    "mycol = mydb[\"usuarios\"]"
   ]
  },
  {
   "cell_type": "code",
   "execution_count": 74,
   "metadata": {},
   "outputs": [],
   "source": [
    "def valoraciones(num):\n",
    "    valoracion = mycol.find({\"biblioteca.id_juego\":int(num)},{\"biblioteca.$.valoraciones\":1})\n",
    "    max = -1\n",
    "    min = 9999\n",
    "    commax = \"\"\n",
    "    commin = \"\"\n",
    "    if(valoracion.count() > 0):\n",
    "        print(\"Todas las valoraciones (\",valoracion.count(),\"): \")\n",
    "        for x in valoracion:\n",
    "            print(\"Valoración:\",x['biblioteca'][0]['valoraciones'], \"-\", x['biblioteca'][0]['comentarios'] )\n",
    "            if(x['biblioteca'][0]['valoraciones'] > max):\n",
    "                max = x['biblioteca'][0]['valoraciones']\n",
    "                commax = x['biblioteca'][0]['comentarios']\n",
    "            if(x['biblioteca'][0]['valoraciones'] < min):\n",
    "                min = x['biblioteca'][0]['valoraciones']\n",
    "                commin = x['biblioteca'][0]['comentarios']\n",
    "\n",
    "        print(\"*******************************************************\")\n",
    "        print(\"Máxima valoración: \",max,\"-\",commax)\n",
    "        print(\"Mínima valoración: \",min,\"-\",commin)\n",
    "    else:\n",
    "        print(\"El juego seleccionado no tiene valoraciones\")"
   ]
  },
  {
   "cell_type": "markdown",
   "metadata": {},
   "source": [
    "### Todas las valoraciones"
   ]
  },
  {
   "cell_type": "code",
   "execution_count": 75,
   "metadata": {},
   "outputs": [
    {
     "name": "stdout",
     "output_type": "stream",
     "text": [
      "Seleccione id de juego: \n",
      "6419\n",
      "Todas las valoraciones ( 16 ): \n",
      "Valoración: 8 - Simplemente perfecto\n",
      "Valoración: 4 - Me esperaba algo mejor\n",
      "Valoración: 5 - No esta mal\n",
      "Valoración: 3 - Decepcionante\n",
      "Valoración: 3 - Decepcionante\n",
      "Valoración: 3 - Decepcionante\n",
      "Valoración: 10 - Para mi, el juego del año\n",
      "Valoración: 2 - Los peores euros invertidos de mi vida\n",
      "Valoración: 8 - Simplemente perfecto\n",
      "Valoración: 3 - Decepcionante\n",
      "Valoración: 4 - Me esperaba algo mejor\n",
      "Valoración: 5 - No esta mal\n",
      "Valoración: 1 - No lo recomiendo\n",
      "Valoración: 3 - Decepcionante\n",
      "Valoración: 4 - Me esperaba algo mejor\n",
      "Valoración: 6 - Es entretenido\n",
      "*******************************************************\n",
      "Máxima valoración:  10 - Para mi, el juego del año\n",
      "Mínima valoración:  1 - No lo recomiendo\n"
     ]
    },
    {
     "name": "stderr",
     "output_type": "stream",
     "text": [
      "C:\\Users\\Rodrigo\\Anaconda3\\lib\\site-packages\\ipykernel_launcher.py:7: DeprecationWarning: count is deprecated. Use Collection.count_documents instead.\n",
      "  import sys\n",
      "C:\\Users\\Rodrigo\\Anaconda3\\lib\\site-packages\\ipykernel_launcher.py:8: DeprecationWarning: count is deprecated. Use Collection.count_documents instead.\n",
      "  \n"
     ]
    }
   ],
   "source": [
    "print(\"Seleccione id de juego: \")\n",
    "num = input()\n",
    "valoraciones(num)"
   ]
  },
  {
   "cell_type": "code",
   "execution_count": null,
   "metadata": {},
   "outputs": [],
   "source": []
  }
 ],
 "metadata": {
  "kernelspec": {
   "display_name": "Python 3",
   "language": "python",
   "name": "python3"
  },
  "language_info": {
   "codemirror_mode": {
    "name": "ipython",
    "version": 3
   },
   "file_extension": ".py",
   "mimetype": "text/x-python",
   "name": "python",
   "nbconvert_exporter": "python",
   "pygments_lexer": "ipython3",
   "version": "3.6.5"
  }
 },
 "nbformat": 4,
 "nbformat_minor": 2
}
